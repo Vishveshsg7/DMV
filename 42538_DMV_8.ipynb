{
 "cells": [
  {
   "cell_type": "markdown",
   "id": "f563a5eb",
   "metadata": {},
   "source": [
    "Assignment 2 : Interacting with Web APIs<br>\n",
    "Problem Statement: Analyzing Weather Data from OpenWeatherMap API<br>\n",
    "Dataset: Weather data retrieved from OpenWeatherMap API<br>\n",
    "Description: The goal is to interact with the OpenWeatherMap API to retrieve weather data for a specific location and perform data modeling and visualization to analyze weather patterns over time.<br>\n",
    "Tasks to Perform:"
   ]
  },
  {
   "cell_type": "code",
   "execution_count": 2,
   "id": "e703d8ca",
   "metadata": {},
   "outputs": [],
   "source": [
    "import requests\n",
    "import pandas as pd\n",
    "import matplotlib.pyplot as plt\n",
    "import seaborn as sns\n",
    "import folium"
   ]
  },
  {
   "cell_type": "markdown",
   "id": "3aa095d9",
   "metadata": {},
   "source": [
    "2. Interact with the OpenWeatherMap API using the API key to retrieve weather data for a specific location."
   ]
  },
  {
   "cell_type": "code",
   "execution_count": 3,
   "id": "8e3d7e3d",
   "metadata": {},
   "outputs": [
    {
     "name": "stdout",
     "output_type": "stream",
     "text": [
      "{'coord': {'lon': 73.8553, 'lat': 18.5196}, 'weather': [{'id': 804, 'main': 'Clouds', 'description': 'overcast clouds', 'icon': '04d'}], 'base': 'stations', 'main': {'temp': 27.81, 'feels_like': 29.94, 'temp_min': 27.81, 'temp_max': 27.81, 'pressure': 1008, 'humidity': 67, 'sea_level': 1008, 'grnd_level': 936}, 'visibility': 10000, 'wind': {'speed': 4.8, 'deg': 284, 'gust': 5.03}, 'clouds': {'all': 100}, 'dt': 1728038528, 'sys': {'country': 'IN', 'sunrise': 1728003335, 'sunset': 1728046243}, 'timezone': 19800, 'id': 1259229, 'name': 'Pune', 'cod': 200}\n"
     ]
    }
   ],
   "source": [
    "api_key = \"539abd34ea726546401f7e455033f7a2\"  \n",
    "city = \"Pune\"\n",
    "url = f\"http://api.openweathermap.org/data/2.5/weather?q={city}&appid={api_key}&units=metric\"\n",
    "\n",
    "response = requests.get(url)\n",
    "weather_data = response.json()\n",
    "\n",
    "print(weather_data)   "
   ]
  },
  {
   "cell_type": "markdown",
   "id": "208ca297",
   "metadata": {},
   "source": [
    "3. Extract relevant weather attributes such as temperature, humidity, wind speed, and precipitation from the API response."
   ]
  },
  {
   "cell_type": "code",
   "execution_count": 4,
   "id": "2b980a5d",
   "metadata": {},
   "outputs": [
    {
     "name": "stdout",
     "output_type": "stream",
     "text": [
      "Temperature: 27.81 kelvin, \n",
      "Humidity: 67%, \n",
      "Wind Speed: 4.8 m/s\n"
     ]
    }
   ],
   "source": [
    "temperature = weather_data['main']['temp']\n",
    "humidity = weather_data['main']['humidity']\n",
    "wind_speed = weather_data['wind']['speed']\n",
    "\n",
    "print(f\"Temperature: {temperature} kelvin, \\nHumidity: {humidity}%, \\nWind Speed: {wind_speed} m/s\")"
   ]
  },
  {
   "cell_type": "markdown",
   "id": "1c69eded",
   "metadata": {},
   "source": [
    "4. Clean and preprocess the retrieved data, handling missing values or inconsistent formats."
   ]
  },
  {
   "cell_type": "code",
   "execution_count": 5,
   "id": "ca36e525",
   "metadata": {},
   "outputs": [
    {
     "name": "stdout",
     "output_type": "stream",
     "text": [
      "   temperature  humidity  wind_speed\n",
      "0        27.81        67         4.8\n"
     ]
    }
   ],
   "source": [
    "data = {\n",
    "    'temperature': [temperature],\n",
    "    'humidity': [humidity],\n",
    "    'wind_speed': [wind_speed], \n",
    "}\n",
    "\n",
    "df = pd.DataFrame(data)\n",
    "print(df)"
   ]
  },
  {
   "cell_type": "code",
   "execution_count": 6,
   "id": "e09582fc",
   "metadata": {},
   "outputs": [],
   "source": [
    "# Handle missing values\n",
    "df.fillna(method='ffill', inplace=True)"
   ]
  },
  {
   "cell_type": "markdown",
   "id": "434b8d88",
   "metadata": {},
   "source": [
    "5. Perform data modeling to analyze weather patterns, such as calculating average temperature, maximum/minimum values, or trends over time."
   ]
  },
  {
   "cell_type": "code",
   "execution_count": 7,
   "id": "b1eadf5a",
   "metadata": {},
   "outputs": [
    {
     "name": "stdout",
     "output_type": "stream",
     "text": [
      "Average Temperature: 27.81 C, \n",
      "Max Temperature: 27.81 C, \n",
      "Min Temperature: 27.81 C, \n",
      "Average Humidity: 67.0 %, \n",
      "Average Wind Speed: 4.8 m/s\n"
     ]
    }
   ],
   "source": [
    "# Calculate average, max, and min\n",
    "avg_temp = df['temperature'].mean()\n",
    "max_temp = df['temperature'].max()\n",
    "min_temp = df['temperature'].min()\n",
    "avg_humd = df['humidity'].mean()\n",
    "avg_wind = df['wind_speed'].mean()\n",
    "\n",
    "print(f\"Average Temperature: {avg_temp} C, \\nMax Temperature: {max_temp} C, \\nMin Temperature: {min_temp} C, \\nAverage Humidity: {avg_humd} %, \\nAverage Wind Speed: {avg_wind} m/s\")"
   ]
  },
  {
   "cell_type": "markdown",
   "id": "f39c50b3",
   "metadata": {},
   "source": [
    "6. Visualize the weather data using appropriate plots, such as line charts, bar plots, or scatter plots, to represent temperature changes, precipitation levels, or wind speed variations."
   ]
  },
  {
   "cell_type": "code",
   "execution_count": 8,
   "id": "69556f1c",
   "metadata": {},
   "outputs": [
    {
     "data": {
      "image/png": "[encoded data removed]",
      "text/plain": [
       "<Figure size 864x432 with 1 Axes>"
      ]
     },
     "metadata": {},
     "output_type": "display_data"
    }
   ],
   "source": [
    "df['date'] = pd.to_datetime(weather_data['dt'], unit='s')  \n",
    "# Set the style for the plot\n",
    "sns.set(style=\"whitegrid\")\n",
    "\n",
    "# Create the combined scatter plot\n",
    "plt.figure(figsize=(12, 6))\n",
    "\n",
    "# Plot Temperature (in Celsius)\n",
    "sns.scatterplot(data=df, x='date', y='temperature', color='red', label='Temperature (°C)', marker='o')\n",
    "# Plot Humidity\n",
    "sns.scatterplot(data=df, x='date', y='humidity', color='blue', label='Humidity (%)', marker='s')\n",
    "# Plot Wind Speed\n",
    "sns.scatterplot(data=df, x='date', y='wind_speed', color='green', label='Wind Speed (m/s)', marker='D')\n",
    "\n",
    "# Formatting the plot\n",
    "plt.title('Weather Attributes Over Time')\n",
    "plt.ylabel('Value')\n",
    "plt.xlabel('Date')\n",
    "plt.xticks(rotation=45)  # Rotate x labels for better readability\n",
    "plt.legend(title='Weather Attributes')\n",
    "plt.tight_layout()  # Adjust the layout to fit labels\n",
    "\n",
    "# Show the plot\n",
    "plt.show()\n"
   ]
  },
  {
   "cell_type": "markdown",
   "id": "c3ca95dd",
   "metadata": {},
   "source": [
    "7. Apply data aggregation techniques to summarize weather statistics by specific time periods (e.g., daily, monthly, seasonal)."
   ]
  },
  {
   "cell_type": "code",
   "execution_count": 9,
   "id": "4113f748",
   "metadata": {},
   "outputs": [
    {
     "name": "stdout",
     "output_type": "stream",
     "text": [
      "Daily Summary:\n",
      "           temperature                 humidity wind_speed\n",
      "               Average Maximum Minimum  Average    Average\n",
      "date                                                      \n",
      "2024-10-04       27.81   27.81   27.81     67.0        4.8\n",
      "\n",
      "Monthly Summary:\n",
      "           temperature                 humidity wind_speed\n",
      "               Average Maximum Minimum  Average    Average\n",
      "date                                                      \n",
      "2024-10-31       27.81   27.81   27.81     67.0        4.8\n",
      "\n",
      "Seasonal Summary:\n",
      "       temperature                 humidity wind_speed\n",
      "           Average Maximum Minimum  Average    Average\n",
      "season                                                \n",
      "Fall         27.81   27.81   27.81     67.0        4.8\n"
     ]
    }
   ],
   "source": [
    "# Ensure 'date' is in the datetime format\n",
    "df['date'] = pd.to_datetime(df['date'])\n",
    "\n",
    "# Set 'date' as the index\n",
    "df.set_index('date', inplace=True)\n",
    "\n",
    "# Daily aggregation\n",
    "daily_summary = df.resample('D').agg({\n",
    "    'temperature': ['mean', 'max', 'min'],\n",
    "    'humidity': 'mean',\n",
    "    'wind_speed': 'mean'\n",
    "}).rename(columns={\n",
    "    'mean': 'Average',\n",
    "    'max': 'Maximum',\n",
    "    'min': 'Minimum'\n",
    "})\n",
    "\n",
    "print(\"Daily Summary:\")\n",
    "print(daily_summary)\n",
    "\n",
    "# Monthly aggregation\n",
    "monthly_summary = df.resample('M').agg({\n",
    "    'temperature': ['mean', 'max', 'min'],\n",
    "    'humidity': 'mean',\n",
    "    'wind_speed': 'mean'\n",
    "}).rename(columns={\n",
    "    'mean': 'Average',\n",
    "    'max': 'Maximum',\n",
    "    'min': 'Minimum'\n",
    "})\n",
    "\n",
    "print(\"\\nMonthly Summary:\")\n",
    "print(monthly_summary)\n",
    "\n",
    "# Seasonal aggregation (assuming four seasons: Spring, Summer, Fall, Winter)\n",
    "# This can be done manually based on the month\n",
    "# Creating a new column to indicate the season\n",
    "def get_season(month):\n",
    "    if month in [12, 1, 2]:\n",
    "        return 'Winter'\n",
    "    elif month in [3, 4, 5]:\n",
    "        return 'Spring'\n",
    "    elif month in [6, 7, 8]:\n",
    "        return 'Summer'\n",
    "    else:\n",
    "        return 'Fall'\n",
    "\n",
    "df['season'] = df.index.month.map(get_season)\n",
    "\n",
    "# Seasonal aggregation\n",
    "seasonal_summary = df.groupby('season').agg({\n",
    "    'temperature': ['mean', 'max', 'min'],\n",
    "    'humidity': 'mean',\n",
    "    'wind_speed': 'mean'\n",
    "}).rename(columns={\n",
    "    'mean': 'Average',\n",
    "    'max': 'Maximum',\n",
    "    'min': 'Minimum'\n",
    "})\n",
    "\n",
    "print(\"\\nSeasonal Summary:\")\n",
    "print(seasonal_summary)\n"
   ]
  },
  {
   "cell_type": "markdown",
   "id": "d4d51f85",
   "metadata": {},
   "source": [
    "8. Incorporate geographical information, if available, to create maps or geospatial visualizations representing weather patterns across different locations."
   ]
  },
  {
   "cell_type": "code",
   "execution_count": 10,
   "id": "74306284",
   "metadata": {},
   "outputs": [
    {
     "data": {
      "text/html": [
       "<div style=\"width:100%;\"><div style=\"position:relative;width:100%;height:0;padding-bottom:60%;\"><span style=\"color:#565656\">Make this Notebook Trusted to load map: File -> Trust Notebook</span><iframe srcdoc=\"&lt;!DOCTYPE html&gt;\n",
       "&lt;html&gt;\n",
       "&lt;head&gt;\n",
       "    \n",
       "    &lt;meta http-equiv=&quot;content-type&quot; content=&quot;text/html; charset=UTF-8&quot; /&gt;\n",
       "    \n",
       "        &lt;script&gt;\n",
       "            L_NO_TOUCH = false;\n",
       "            L_DISABLE_3D = false;\n",
       "        &lt;/script&gt;\n",
       "    \n",
       "    &lt;style&gt;html, body {width: 100%;height: 100%;margin: 0;padding: 0;}&lt;/style&gt;\n",
       "    &lt;style&gt;#map {position:absolute;top:0;bottom:0;right:0;left:0;}&lt;/style&gt;\n",
       "    &lt;script src=&quot;https://cdn.jsdelivr.net/npm/leaflet@1.9.3/dist/leaflet.js&quot;&gt;&lt;/script&gt;\n",
       "    &lt;script src=&quot;https://code.jquery.com/jquery-3.7.1.min.js&quot;&gt;&lt;/script&gt;\n",
       "    &lt;script src=&quot;https://cdn.jsdelivr.net/npm/bootstrap@5.2.2/dist/js/bootstrap.bundle.min.js&quot;&gt;&lt;/script&gt;\n",
       "    &lt;script src=&quot;https://cdnjs.cloudflare.com/ajax/libs/Leaflet.awesome-markers/2.0.2/leaflet.awesome-markers.js&quot;&gt;&lt;/script&gt;\n",
       "    &lt;link rel=&quot;stylesheet&quot; href=&quot;https://cdn.jsdelivr.net/npm/leaflet@1.9.3/dist/leaflet.css&quot;/&gt;\n",
       "    &lt;link rel=&quot;stylesheet&quot; href=&quot;https://cdn.jsdelivr.net/npm/bootstrap@5.2.2/dist/css/bootstrap.min.css&quot;/&gt;\n",
       "    &lt;link rel=&quot;stylesheet&quot; href=&quot;https://netdna.bootstrapcdn.com/bootstrap/3.0.0/css/bootstrap-glyphicons.css&quot;/&gt;\n",
       "    &lt;link rel=&quot;stylesheet&quot; href=&quot;https://cdn.jsdelivr.net/npm/@fortawesome/fontawesome-free@6.2.0/css/all.min.css&quot;/&gt;\n",
       "    &lt;link rel=&quot;stylesheet&quot; href=&quot;https://cdnjs.cloudflare.com/ajax/libs/Leaflet.awesome-markers/2.0.2/leaflet.awesome-markers.css&quot;/&gt;\n",
       "    &lt;link rel=&quot;stylesheet&quot; href=&quot;https://cdn.jsdelivr.net/gh/python-visualization/folium/folium/templates/leaflet.awesome.rotate.min.css&quot;/&gt;\n",
       "    \n",
       "            &lt;meta name=&quot;viewport&quot; content=&quot;width=device-width,\n",
       "                initial-scale=1.0, maximum-scale=1.0, user-scalable=no&quot; /&gt;\n",
       "            &lt;style&gt;\n",
       "                #map_698d0b250df14aaa0bfbae9ecc134f57 {\n",
       "                    position: relative;\n",
       "                    width: 100.0%;\n",
       "                    height: 100.0%;\n",
       "                    left: 0.0%;\n",
       "                    top: 0.0%;\n",
       "                }\n",
       "                .leaflet-container { font-size: 1rem; }\n",
       "            &lt;/style&gt;\n",
       "        \n",
       "&lt;/head&gt;\n",
       "&lt;body&gt;\n",
       "    \n",
       "    \n",
       "            &lt;div class=&quot;folium-map&quot; id=&quot;map_698d0b250df14aaa0bfbae9ecc134f57&quot; &gt;&lt;/div&gt;\n",
       "        \n",
       "&lt;/body&gt;\n",
       "&lt;script&gt;\n",
       "    \n",
       "    \n",
       "            var map_698d0b250df14aaa0bfbae9ecc134f57 = L.map(\n",
       "                &quot;map_698d0b250df14aaa0bfbae9ecc134f57&quot;,\n",
       "                {\n",
       "                    center: [20.5937, 78.9629],\n",
       "                    crs: L.CRS.EPSG3857,\n",
       "                    zoom: 5,\n",
       "                    zoomControl: true,\n",
       "                    preferCanvas: false,\n",
       "                }\n",
       "            );\n",
       "\n",
       "            \n",
       "\n",
       "        \n",
       "    \n",
       "            var tile_layer_3b5ac6e013f7069e1f40c0ee278774d0 = L.tileLayer(\n",
       "                &quot;https://tile.openstreetmap.org/{z}/{x}/{y}.png&quot;,\n",
       "                {&quot;attribution&quot;: &quot;\\u0026copy; \\u003ca href=\\&quot;https://www.openstreetmap.org/copyright\\&quot;\\u003eOpenStreetMap\\u003c/a\\u003e contributors&quot;, &quot;detectRetina&quot;: false, &quot;maxNativeZoom&quot;: 19, &quot;maxZoom&quot;: 19, &quot;minZoom&quot;: 0, &quot;noWrap&quot;: false, &quot;opacity&quot;: 1, &quot;subdomains&quot;: &quot;abc&quot;, &quot;tms&quot;: false}\n",
       "            );\n",
       "        \n",
       "    \n",
       "            tile_layer_3b5ac6e013f7069e1f40c0ee278774d0.addTo(map_698d0b250df14aaa0bfbae9ecc134f57);\n",
       "        \n",
       "    \n",
       "            var circle_marker_735bd48a137b2d2160b31a87977c5559 = L.circleMarker(\n",
       "                [18.5204, 73.8567],\n",
       "                {&quot;bubblingMouseEvents&quot;: true, &quot;color&quot;: &quot;blue&quot;, &quot;dashArray&quot;: null, &quot;dashOffset&quot;: null, &quot;fill&quot;: true, &quot;fillColor&quot;: &quot;blue&quot;, &quot;fillOpacity&quot;: 0.6, &quot;fillRule&quot;: &quot;evenodd&quot;, &quot;lineCap&quot;: &quot;round&quot;, &quot;lineJoin&quot;: &quot;round&quot;, &quot;opacity&quot;: 1.0, &quot;radius&quot;: 6.0, &quot;stroke&quot;: true, &quot;weight&quot;: 3}\n",
       "            ).addTo(map_698d0b250df14aaa0bfbae9ecc134f57);\n",
       "        \n",
       "    \n",
       "        var popup_25b9df65ee6ba39d8878686a377cd230 = L.popup({&quot;maxWidth&quot;: &quot;100%&quot;});\n",
       "\n",
       "        \n",
       "            \n",
       "                var html_f45da597ae13b3172751b62de0cd278d = $(`&lt;div id=&quot;html_f45da597ae13b3172751b62de0cd278d&quot; style=&quot;width: 100.0%; height: 100.0%;&quot;&gt;Pune: 30 °C, 70%&lt;/div&gt;`)[0];\n",
       "                popup_25b9df65ee6ba39d8878686a377cd230.setContent(html_f45da597ae13b3172751b62de0cd278d);\n",
       "            \n",
       "        \n",
       "\n",
       "        circle_marker_735bd48a137b2d2160b31a87977c5559.bindPopup(popup_25b9df65ee6ba39d8878686a377cd230)\n",
       "        ;\n",
       "\n",
       "        \n",
       "    \n",
       "    \n",
       "            var circle_marker_280b8ee5a57a915dda2eb2488ab137fa = L.circleMarker(\n",
       "                [19.076, 72.8777],\n",
       "                {&quot;bubblingMouseEvents&quot;: true, &quot;color&quot;: &quot;red&quot;, &quot;dashArray&quot;: null, &quot;dashOffset&quot;: null, &quot;fill&quot;: true, &quot;fillColor&quot;: &quot;red&quot;, &quot;fillOpacity&quot;: 0.6, &quot;fillRule&quot;: &quot;evenodd&quot;, &quot;lineCap&quot;: &quot;round&quot;, &quot;lineJoin&quot;: &quot;round&quot;, &quot;opacity&quot;: 1.0, &quot;radius&quot;: 6.4, &quot;stroke&quot;: true, &quot;weight&quot;: 3}\n",
       "            ).addTo(map_698d0b250df14aaa0bfbae9ecc134f57);\n",
       "        \n",
       "    \n",
       "        var popup_8318ff2974cf881696d8bd64ec9ea438 = L.popup({&quot;maxWidth&quot;: &quot;100%&quot;});\n",
       "\n",
       "        \n",
       "            \n",
       "                var html_fa3a5efd53d6e3e6b998be139e8eebbf = $(`&lt;div id=&quot;html_fa3a5efd53d6e3e6b998be139e8eebbf&quot; style=&quot;width: 100.0%; height: 100.0%;&quot;&gt;Mumbai: 32 °C, 75%&lt;/div&gt;`)[0];\n",
       "                popup_8318ff2974cf881696d8bd64ec9ea438.setContent(html_fa3a5efd53d6e3e6b998be139e8eebbf);\n",
       "            \n",
       "        \n",
       "\n",
       "        circle_marker_280b8ee5a57a915dda2eb2488ab137fa.bindPopup(popup_8318ff2974cf881696d8bd64ec9ea438)\n",
       "        ;\n",
       "\n",
       "        \n",
       "    \n",
       "    \n",
       "            var circle_marker_ac1bfab23b4223083c6fd1f0c7d55957 = L.circleMarker(\n",
       "                [28.6139, 77.209],\n",
       "                {&quot;bubblingMouseEvents&quot;: true, &quot;color&quot;: &quot;blue&quot;, &quot;dashArray&quot;: null, &quot;dashOffset&quot;: null, &quot;fill&quot;: true, &quot;fillColor&quot;: &quot;blue&quot;, &quot;fillOpacity&quot;: 0.6, &quot;fillRule&quot;: &quot;evenodd&quot;, &quot;lineCap&quot;: &quot;round&quot;, &quot;lineJoin&quot;: &quot;round&quot;, &quot;opacity&quot;: 1.0, &quot;radius&quot;: 5.6000000000000005, &quot;stroke&quot;: true, &quot;weight&quot;: 3}\n",
       "            ).addTo(map_698d0b250df14aaa0bfbae9ecc134f57);\n",
       "        \n",
       "    \n",
       "        var popup_2d989c0d95191a3e000b132a971d6a2b = L.popup({&quot;maxWidth&quot;: &quot;100%&quot;});\n",
       "\n",
       "        \n",
       "            \n",
       "                var html_25c9d816ae9e802d9a86419deeb8db78 = $(`&lt;div id=&quot;html_25c9d816ae9e802d9a86419deeb8db78&quot; style=&quot;width: 100.0%; height: 100.0%;&quot;&gt;Delhi: 28 °C, 65%&lt;/div&gt;`)[0];\n",
       "                popup_2d989c0d95191a3e000b132a971d6a2b.setContent(html_25c9d816ae9e802d9a86419deeb8db78);\n",
       "            \n",
       "        \n",
       "\n",
       "        circle_marker_ac1bfab23b4223083c6fd1f0c7d55957.bindPopup(popup_2d989c0d95191a3e000b132a971d6a2b)\n",
       "        ;\n",
       "\n",
       "        \n",
       "    \n",
       "    \n",
       "            var circle_marker_d6f866686bbdc94c1803d57c48fc5b6a = L.circleMarker(\n",
       "                [12.9716, 77.5946],\n",
       "                {&quot;bubblingMouseEvents&quot;: true, &quot;color&quot;: &quot;blue&quot;, &quot;dashArray&quot;: null, &quot;dashOffset&quot;: null, &quot;fill&quot;: true, &quot;fillColor&quot;: &quot;blue&quot;, &quot;fillOpacity&quot;: 0.6, &quot;fillRule&quot;: &quot;evenodd&quot;, &quot;lineCap&quot;: &quot;round&quot;, &quot;lineJoin&quot;: &quot;round&quot;, &quot;opacity&quot;: 1.0, &quot;radius&quot;: 5.800000000000001, &quot;stroke&quot;: true, &quot;weight&quot;: 3}\n",
       "            ).addTo(map_698d0b250df14aaa0bfbae9ecc134f57);\n",
       "        \n",
       "    \n",
       "        var popup_f33e52b3564201f34efac54560983665 = L.popup({&quot;maxWidth&quot;: &quot;100%&quot;});\n",
       "\n",
       "        \n",
       "            \n",
       "                var html_71f0a3e47a08e2a21221e74bbdcee939 = $(`&lt;div id=&quot;html_71f0a3e47a08e2a21221e74bbdcee939&quot; style=&quot;width: 100.0%; height: 100.0%;&quot;&gt;Bangalore: 29 °C, 80%&lt;/div&gt;`)[0];\n",
       "                popup_f33e52b3564201f34efac54560983665.setContent(html_71f0a3e47a08e2a21221e74bbdcee939);\n",
       "            \n",
       "        \n",
       "\n",
       "        circle_marker_d6f866686bbdc94c1803d57c48fc5b6a.bindPopup(popup_f33e52b3564201f34efac54560983665)\n",
       "        ;\n",
       "\n",
       "        \n",
       "    \n",
       "    \n",
       "            tile_layer_3b5ac6e013f7069e1f40c0ee278774d0.addTo(map_698d0b250df14aaa0bfbae9ecc134f57);\n",
       "        \n",
       "&lt;/script&gt;\n",
       "&lt;/html&gt;\" style=\"position:absolute;width:100%;height:100%;left:0;top:0;border:none !important;\" allowfullscreen webkitallowfullscreen mozallowfullscreen></iframe></div></div>"
      ],
      "text/plain": [
       "<folium.folium.Map at 0x198e0abf6a0>"
      ]
     },
     "execution_count": 10,
     "metadata": {},
     "output_type": "execute_result"
    }
   ],
   "source": [
    "# Sample geographical data for multiple cities\n",
    "data = {\n",
    "    'city': ['Pune', 'Mumbai', 'Delhi', 'Bangalore'],\n",
    "    'latitude': [18.5204, 19.0760, 28.6139, 12.9716],\n",
    "    'longitude': [73.8567, 72.8777, 77.2090, 77.5946],\n",
    "    'temperature': [30, 32, 28, 29],  # Sample temperature data\n",
    "    'humidity': [70, 75, 65, 80],  # Sample humidity data\n",
    "}\n",
    "\n",
    "# Create a DataFrame\n",
    "df_geo = pd.DataFrame(data)\n",
    "\n",
    "# Create a base map\n",
    "m = folium.Map(location=[20.5937, 78.9629], zoom_start=5)  # Centered in India\n",
    "\n",
    "# Add a marker for each city with temperature data\n",
    "for index, row in df_geo.iterrows():\n",
    "    folium.CircleMarker(\n",
    "        location=(row['latitude'], row['longitude']),\n",
    "        radius=row['temperature'] * 0.2,  # Scale the radius based on temperature\n",
    "        color='red' if row['temperature'] > 30 else 'blue',  # Color based on temperature\n",
    "        fill=True,\n",
    "        fill_color='red' if row['temperature'] > 30 else 'blue',\n",
    "        fill_opacity=0.6,\n",
    "        popup=f\"{row['city']}: {row['temperature']} °C, {row['humidity']}%\",\n",
    "    ).add_to(m)\n",
    "\n",
    "# Show the map\n",
    "m.save('weather_map.html')  # Save the map to an HTML file\n",
    "m  # Display the map if in a Jupyter Notebook\n"
   ]
  },
  {
   "cell_type": "markdown",
   "id": "b3e1f0b2",
   "metadata": {},
   "source": [
    "9. Explore and visualize relationships between weather attributes, such as temperature and humidity, using correlation plots or heatmaps."
   ]
  },
  {
   "cell_type": "code",
   "execution_count": 11,
   "id": "4a50d157",
   "metadata": {},
   "outputs": [
    {
     "data": {
      "image/png": "[encoded data removed]",
      "text/plain": [
       "<Figure size 576x432 with 2 Axes>"
      ]
     },
     "metadata": {},
     "output_type": "display_data"
    }
   ],
   "source": [
    "# Create a DataFrame for visualization\n",
    "df_weather = pd.DataFrame(data)\n",
    "\n",
    "# Calculate the correlation matrix\n",
    "correlation_matrix = df_weather.corr()\n",
    "\n",
    "# Set the size of the plot\n",
    "plt.figure(figsize=(8, 6))\n",
    "\n",
    "# Create a heatmap using seaborn\n",
    "sns.heatmap(correlation_matrix, annot=True, cmap='coolwarm', fmt='.2f', square=True, cbar_kws={'shrink': .8})\n",
    "\n",
    "# Add titles and labels\n",
    "plt.title('Correlation Heatmap of Weather Attributes')\n",
    "plt.xticks(rotation=45)\n",
    "plt.yticks(rotation=45)\n",
    "plt.tight_layout()  # Adjust layout for better readability\n",
    "\n",
    "# Show the plot\n",
    "plt.show()"
   ]
  },
  {
   "cell_type": "code",
   "execution_count": null,
   "id": "1d8f6ded",
   "metadata": {},
   "outputs": [],
   "source": []
  }
 ],
 "metadata": {
  "kernelspec": {
   "display_name": "Python 3 (ipykernel)",
   "language": "python",
   "name": "python3"
  },
  "language_info": {
   "codemirror_mode": {
    "name": "ipython",
    "version": 3
   },
   "file_extension": ".py",
   "mimetype": "text/x-python",
   "name": "python",
   "nbconvert_exporter": "python",
   "pygments_lexer": "ipython3",
   "version": "3.9.7"
  }
 },
 "nbformat": 4,
 "nbformat_minor": 5
}
