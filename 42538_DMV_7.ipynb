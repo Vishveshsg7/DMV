{
 "cells": [
  {
   "cell_type": "markdown",
   "id": "b65db3d0",
   "metadata": {
    "id": "b65db3d0"
   },
   "source": [
    "Name : Nikhil Neware<br>\n",
    "Roll No. : 42543<br>\n",
    "Branch : B.E AI&DS<br>\n",
    "Batch : B3<br>\n",
    "Computer Laboratory I : Data Modeling and Visualization"
   ]
  },
  {
   "cell_type": "markdown",
   "id": "00d0a295",
   "metadata": {
    "id": "00d0a295"
   },
   "source": [
    "Assignment 1 : Data Loading, Storage and File Formats<br>\n",
    "Problem Statement: Analyzing Sales Data from Multiple File Formats<br>\n",
    "Dataset: Sales data in multiple file formats (e.g., CSV, Excel, JSON)<br>\n",
    "Description: The goal is to load and analyze sales data from different file formats, including\n",
    "CSV, Excel, and JSON, and perform data cleaning, transformation, and analysis on the\n",
    "dataset.<br>\n",
    "Tasks to Perform:<br>\n",
    "Obtain sales data files in various formats, such as CSV, Excel, and JSON.<br>"
   ]
  },
  {
   "cell_type": "code",
   "execution_count": 1,
   "id": "8974a293",
   "metadata": {
    "executionInfo": {
     "elapsed": 1727,
     "status": "ok",
     "timestamp": 1728451902767,
     "user": {
      "displayName": "2241_NIKHIL NEWARE",
      "userId": "04915480904867734435"
     },
     "user_tz": -330
    },
    "id": "8974a293"
   },
   "outputs": [],
   "source": [
    "import pandas as pd\n",
    "import numpy as np"
   ]
  },
  {
   "cell_type": "markdown",
   "id": "f681d1b6",
   "metadata": {
    "id": "f681d1b6"
   },
   "source": [
    "1. Load the sales data from each file format into the appropriate data structures or dataframes."
   ]
  },
  {
   "cell_type": "code",
   "execution_count": 2,
   "id": "2ff7b7ca",
   "metadata": {
    "colab": {
     "base_uri": "https://localhost:8080/",
     "height": 287
    },
    "executionInfo": {
     "elapsed": 1219,
     "status": "error",
     "timestamp": 1728451907796,
     "user": {
      "displayName": "2241_NIKHIL NEWARE",
      "userId": "04915480904867734435"
     },
     "user_tz": -330
    },
    "id": "2ff7b7ca",
    "outputId": "70b61bed-79ab-4de5-f01d-e751ac2ca6c9"
   },
   "outputs": [
    {
     "ename": "FileNotFoundError",
     "evalue": "[Errno 2] No such file or directory: 'DMV ASMT 1.csv'",
     "output_type": "error",
     "traceback": [
      "\u001b[0;31m---------------------------------------------------------------------------\u001b[0m",
      "\u001b[0;31mFileNotFoundError\u001b[0m                         Traceback (most recent call last)",
      "\u001b[0;32m<ipython-input-2-e3ffda722792>\u001b[0m in \u001b[0;36m<cell line: 1>\u001b[0;34m()\u001b[0m\n\u001b[0;32m----> 1\u001b[0;31m \u001b[0mdf\u001b[0m \u001b[0;34m=\u001b[0m \u001b[0mpd\u001b[0m\u001b[0;34m.\u001b[0m\u001b[0mread_csv\u001b[0m\u001b[0;34m(\u001b[0m\u001b[0;34m\"DMV ASMT 1.csv\"\u001b[0m\u001b[0;34m)\u001b[0m\u001b[0;34m\u001b[0m\u001b[0;34m\u001b[0m\u001b[0m\n\u001b[0m",
      "\u001b[0;32m/usr/local/lib/python3.10/dist-packages/pandas/io/parsers/readers.py\u001b[0m in \u001b[0;36mread_csv\u001b[0;34m(filepath_or_buffer, sep, delimiter, header, names, index_col, usecols, dtype, engine, converters, true_values, false_values, skipinitialspace, skiprows, skipfooter, nrows, na_values, keep_default_na, na_filter, verbose, skip_blank_lines, parse_dates, infer_datetime_format, keep_date_col, date_parser, date_format, dayfirst, cache_dates, iterator, chunksize, compression, thousands, decimal, lineterminator, quotechar, quoting, doublequote, escapechar, comment, encoding, encoding_errors, dialect, on_bad_lines, delim_whitespace, low_memory, memory_map, float_precision, storage_options, dtype_backend)\u001b[0m\n\u001b[1;32m   1024\u001b[0m     \u001b[0mkwds\u001b[0m\u001b[0;34m.\u001b[0m\u001b[0mupdate\u001b[0m\u001b[0;34m(\u001b[0m\u001b[0mkwds_defaults\u001b[0m\u001b[0;34m)\u001b[0m\u001b[0;34m\u001b[0m\u001b[0;34m\u001b[0m\u001b[0m\n\u001b[1;32m   1025\u001b[0m \u001b[0;34m\u001b[0m\u001b[0m\n\u001b[0;32m-> 1026\u001b[0;31m     \u001b[0;32mreturn\u001b[0m \u001b[0m_read\u001b[0m\u001b[0;34m(\u001b[0m\u001b[0mfilepath_or_buffer\u001b[0m\u001b[0;34m,\u001b[0m \u001b[0mkwds\u001b[0m\u001b[0;34m)\u001b[0m\u001b[0;34m\u001b[0m\u001b[0;34m\u001b[0m\u001b[0m\n\u001b[0m\u001b[1;32m   1027\u001b[0m \u001b[0;34m\u001b[0m\u001b[0m\n\u001b[1;32m   1028\u001b[0m \u001b[0;34m\u001b[0m\u001b[0m\n",
      "\u001b[0;32m/usr/local/lib/python3.10/dist-packages/pandas/io/parsers/readers.py\u001b[0m in \u001b[0;36m_read\u001b[0;34m(filepath_or_buffer, kwds)\u001b[0m\n\u001b[1;32m    618\u001b[0m \u001b[0;34m\u001b[0m\u001b[0m\n\u001b[1;32m    619\u001b[0m     \u001b[0;31m# Create the parser.\u001b[0m\u001b[0;34m\u001b[0m\u001b[0;34m\u001b[0m\u001b[0m\n\u001b[0;32m--> 620\u001b[0;31m     \u001b[0mparser\u001b[0m \u001b[0;34m=\u001b[0m \u001b[0mTextFileReader\u001b[0m\u001b[0;34m(\u001b[0m\u001b[0mfilepath_or_buffer\u001b[0m\u001b[0;34m,\u001b[0m \u001b[0;34m**\u001b[0m\u001b[0mkwds\u001b[0m\u001b[0;34m)\u001b[0m\u001b[0;34m\u001b[0m\u001b[0;34m\u001b[0m\u001b[0m\n\u001b[0m\u001b[1;32m    621\u001b[0m \u001b[0;34m\u001b[0m\u001b[0m\n\u001b[1;32m    622\u001b[0m     \u001b[0;32mif\u001b[0m \u001b[0mchunksize\u001b[0m \u001b[0;32mor\u001b[0m \u001b[0miterator\u001b[0m\u001b[0;34m:\u001b[0m\u001b[0;34m\u001b[0m\u001b[0;34m\u001b[0m\u001b[0m\n",
      "\u001b[0;32m/usr/local/lib/python3.10/dist-packages/pandas/io/parsers/readers.py\u001b[0m in \u001b[0;36m__init__\u001b[0;34m(self, f, engine, **kwds)\u001b[0m\n\u001b[1;32m   1618\u001b[0m \u001b[0;34m\u001b[0m\u001b[0m\n\u001b[1;32m   1619\u001b[0m         \u001b[0mself\u001b[0m\u001b[0;34m.\u001b[0m\u001b[0mhandles\u001b[0m\u001b[0;34m:\u001b[0m \u001b[0mIOHandles\u001b[0m \u001b[0;34m|\u001b[0m \u001b[0;32mNone\u001b[0m \u001b[0;34m=\u001b[0m \u001b[0;32mNone\u001b[0m\u001b[0;34m\u001b[0m\u001b[0;34m\u001b[0m\u001b[0m\n\u001b[0;32m-> 1620\u001b[0;31m         \u001b[0mself\u001b[0m\u001b[0;34m.\u001b[0m\u001b[0m_engine\u001b[0m \u001b[0;34m=\u001b[0m \u001b[0mself\u001b[0m\u001b[0;34m.\u001b[0m\u001b[0m_make_engine\u001b[0m\u001b[0;34m(\u001b[0m\u001b[0mf\u001b[0m\u001b[0;34m,\u001b[0m \u001b[0mself\u001b[0m\u001b[0;34m.\u001b[0m\u001b[0mengine\u001b[0m\u001b[0;34m)\u001b[0m\u001b[0;34m\u001b[0m\u001b[0;34m\u001b[0m\u001b[0m\n\u001b[0m\u001b[1;32m   1621\u001b[0m \u001b[0;34m\u001b[0m\u001b[0m\n\u001b[1;32m   1622\u001b[0m     \u001b[0;32mdef\u001b[0m \u001b[0mclose\u001b[0m\u001b[0;34m(\u001b[0m\u001b[0mself\u001b[0m\u001b[0;34m)\u001b[0m \u001b[0;34m->\u001b[0m \u001b[0;32mNone\u001b[0m\u001b[0;34m:\u001b[0m\u001b[0;34m\u001b[0m\u001b[0;34m\u001b[0m\u001b[0m\n",
      "\u001b[0;32m/usr/local/lib/python3.10/dist-packages/pandas/io/parsers/readers.py\u001b[0m in \u001b[0;36m_make_engine\u001b[0;34m(self, f, engine)\u001b[0m\n\u001b[1;32m   1878\u001b[0m                 \u001b[0;32mif\u001b[0m \u001b[0;34m\"b\"\u001b[0m \u001b[0;32mnot\u001b[0m \u001b[0;32min\u001b[0m \u001b[0mmode\u001b[0m\u001b[0;34m:\u001b[0m\u001b[0;34m\u001b[0m\u001b[0;34m\u001b[0m\u001b[0m\n\u001b[1;32m   1879\u001b[0m                     \u001b[0mmode\u001b[0m \u001b[0;34m+=\u001b[0m \u001b[0;34m\"b\"\u001b[0m\u001b[0;34m\u001b[0m\u001b[0;34m\u001b[0m\u001b[0m\n\u001b[0;32m-> 1880\u001b[0;31m             self.handles = get_handle(\n\u001b[0m\u001b[1;32m   1881\u001b[0m                 \u001b[0mf\u001b[0m\u001b[0;34m,\u001b[0m\u001b[0;34m\u001b[0m\u001b[0;34m\u001b[0m\u001b[0m\n\u001b[1;32m   1882\u001b[0m                 \u001b[0mmode\u001b[0m\u001b[0;34m,\u001b[0m\u001b[0;34m\u001b[0m\u001b[0;34m\u001b[0m\u001b[0m\n",
      "\u001b[0;32m/usr/local/lib/python3.10/dist-packages/pandas/io/common.py\u001b[0m in \u001b[0;36mget_handle\u001b[0;34m(path_or_buf, mode, encoding, compression, memory_map, is_text, errors, storage_options)\u001b[0m\n\u001b[1;32m    871\u001b[0m         \u001b[0;32mif\u001b[0m \u001b[0mioargs\u001b[0m\u001b[0;34m.\u001b[0m\u001b[0mencoding\u001b[0m \u001b[0;32mand\u001b[0m \u001b[0;34m\"b\"\u001b[0m \u001b[0;32mnot\u001b[0m \u001b[0;32min\u001b[0m \u001b[0mioargs\u001b[0m\u001b[0;34m.\u001b[0m\u001b[0mmode\u001b[0m\u001b[0;34m:\u001b[0m\u001b[0;34m\u001b[0m\u001b[0;34m\u001b[0m\u001b[0m\n\u001b[1;32m    872\u001b[0m             \u001b[0;31m# Encoding\u001b[0m\u001b[0;34m\u001b[0m\u001b[0;34m\u001b[0m\u001b[0m\n\u001b[0;32m--> 873\u001b[0;31m             handle = open(\n\u001b[0m\u001b[1;32m    874\u001b[0m                 \u001b[0mhandle\u001b[0m\u001b[0;34m,\u001b[0m\u001b[0;34m\u001b[0m\u001b[0;34m\u001b[0m\u001b[0m\n\u001b[1;32m    875\u001b[0m                 \u001b[0mioargs\u001b[0m\u001b[0;34m.\u001b[0m\u001b[0mmode\u001b[0m\u001b[0;34m,\u001b[0m\u001b[0;34m\u001b[0m\u001b[0;34m\u001b[0m\u001b[0m\n",
      "\u001b[0;31mFileNotFoundError\u001b[0m: [Errno 2] No such file or directory: 'DMV ASMT 1.csv'"
     ]
    }
   ],
   "source": [
    "df = pd.read_csv(\"DMV ASMT 1.csv\")"
   ]
  },
  {
   "cell_type": "code",
   "execution_count": null,
   "id": "ec181470",
   "metadata": {
    "id": "ec181470",
    "outputId": "06a98685-6e05-4253-f14e-28b990fb0a58"
   },
   "outputs": [
    {
     "name": "stdout",
     "output_type": "stream",
     "text": [
      "    ID Salesman     Sales       P Type  Channel   Address\n",
      "0  101      Ram   12000.0      Grocery  Offline      Pune\n",
      "1  253     Sham   10000.0         Food   Online    Nagpur\n",
      "2  555     Tony   30000.0     Clothing   Online   Chennai\n",
      "3  789     Jack   44000.0    Medicines   Online  Banglore\n",
      "4  544     Luke       NaN        Waste  Offline     Delhi\n",
      "5  123    Gopal  123456.0  Electronics      NaN    Mumbai\n",
      "6  365    Karan    9999.0   Breverages      NaN     Jammu\n",
      "7  963     Tina    5000.0   Stationary   Online    Bhopal\n"
     ]
    }
   ],
   "source": [
    "print(df)"
   ]
  },
  {
   "cell_type": "markdown",
   "id": "ab2d0194",
   "metadata": {
    "id": "ab2d0194"
   },
   "source": [
    "2. Explore the structure and content of the loaded data, identifying any inconsistencies, missing values, or data quality issues."
   ]
  },
  {
   "cell_type": "code",
   "execution_count": null,
   "id": "89724cf3",
   "metadata": {
    "id": "89724cf3",
    "outputId": "051028e0-dafe-4346-9d0d-40b4d791e0b3"
   },
   "outputs": [
    {
     "name": "stdout",
     "output_type": "stream",
     "text": [
      "Data Structure:\n",
      "    ID Salesman     Sales       P Type  Channel   Address\n",
      "0  101      Ram   12000.0      Grocery  Offline      Pune\n",
      "1  253     Sham   10000.0         Food   Online    Nagpur\n",
      "2  555     Tony   30000.0     Clothing   Online   Chennai\n",
      "3  789     Jack   44000.0    Medicines   Online  Banglore\n",
      "4  544     Luke       NaN        Waste  Offline     Delhi\n",
      "5  123    Gopal  123456.0  Electronics      NaN    Mumbai\n",
      "6  365    Karan    9999.0   Breverages      NaN     Jammu\n",
      "7  963     Tina    5000.0   Stationary   Online    Bhopal\n"
     ]
    }
   ],
   "source": [
    "print(\"Data Structure:\")\n",
    "print(df)"
   ]
  },
  {
   "cell_type": "code",
   "execution_count": null,
   "id": "d1c858f4",
   "metadata": {
    "id": "d1c858f4",
    "outputId": "ba570324-26e4-4dd1-c48c-570ffe7b9ade"
   },
   "outputs": [
    {
     "name": "stdout",
     "output_type": "stream",
     "text": [
      "\n",
      "Basic Information:\n",
      "<class 'pandas.core.frame.DataFrame'>\n",
      "RangeIndex: 8 entries, 0 to 7\n",
      "Data columns (total 6 columns):\n",
      " #   Column    Non-Null Count  Dtype  \n",
      "---  ------    --------------  -----  \n",
      " 0   ID        8 non-null      int64  \n",
      " 1   Salesman  8 non-null      object \n",
      " 2   Sales     7 non-null      float64\n",
      " 3   P Type    8 non-null      object \n",
      " 4   Channel   6 non-null      object \n",
      " 5   Address   8 non-null      object \n",
      "dtypes: float64(1), int64(1), object(4)\n",
      "memory usage: 512.0+ bytes\n",
      "None\n"
     ]
    }
   ],
   "source": [
    "# Basic Information\n",
    "print(\"\\nBasic Information:\")\n",
    "print(df.info())"
   ]
  },
  {
   "cell_type": "code",
   "execution_count": null,
   "id": "2052e05e",
   "metadata": {
    "id": "2052e05e",
    "outputId": "747c348c-1677-4172-a730-b69063e3fa4f"
   },
   "outputs": [
    {
     "name": "stdout",
     "output_type": "stream",
     "text": [
      "\n",
      "Missing Values:\n",
      "ID          0\n",
      "Salesman    0\n",
      "Sales       1\n",
      "P Type      0\n",
      "Channel     2\n",
      "Address     0\n",
      "dtype: int64\n"
     ]
    }
   ],
   "source": [
    "print(\"\\nMissing Values:\")\n",
    "print(df.isnull().sum())"
   ]
  },
  {
   "cell_type": "markdown",
   "id": "5557885d",
   "metadata": {
    "id": "5557885d"
   },
   "source": [
    "3. Perform data cleaning operations, such as handling missing values, removing duplicates, or correcting inconsistencies."
   ]
  },
  {
   "cell_type": "code",
   "execution_count": null,
   "id": "8351e0e6",
   "metadata": {
    "id": "8351e0e6"
   },
   "outputs": [],
   "source": [
    "df['Sales'].fillna(0, inplace=True)\n",
    "df['Sales'] = df['Sales'].astype(int)"
   ]
  },
  {
   "cell_type": "code",
   "execution_count": null,
   "id": "c2d683c5",
   "metadata": {
    "id": "c2d683c5"
   },
   "outputs": [],
   "source": [
    "df['Channel'] = df['Channel'].fillna('Not known').str.lower()"
   ]
  },
  {
   "cell_type": "code",
   "execution_count": null,
   "id": "fb13cc2a",
   "metadata": {
    "id": "fb13cc2a",
    "outputId": "de810527-929c-4aca-cae7-e13c5ccb778c"
   },
   "outputs": [
    {
     "name": "stdout",
     "output_type": "stream",
     "text": [
      "    ID Salesman   Sales       P Type    Channel   Address\n",
      "0  101      Ram   12000      Grocery    offline      Pune\n",
      "1  253     Sham   10000         Food     online    Nagpur\n",
      "2  555     Tony   30000     Clothing     online   Chennai\n",
      "3  789     Jack   44000    Medicines     online  Banglore\n",
      "4  544     Luke       0        Waste    offline     Delhi\n",
      "5  123    Gopal  123456  Electronics  not known    Mumbai\n",
      "6  365    Karan    9999   Breverages  not known     Jammu\n",
      "7  963     Tina    5000   Stationary     online    Bhopal\n"
     ]
    }
   ],
   "source": [
    "print(df)"
   ]
  },
  {
   "cell_type": "markdown",
   "id": "564ec72c",
   "metadata": {
    "id": "564ec72c"
   },
   "source": [
    "4. Convert the data into a unified format, such as a common dataframe or data structure, to enable seamless analysis."
   ]
  },
  {
   "cell_type": "code",
   "execution_count": null,
   "id": "a7739497",
   "metadata": {
    "id": "a7739497"
   },
   "outputs": [],
   "source": [
    "df['Channel'] = df['Channel'].replace(['offline', 'online'], [0, 1])"
   ]
  },
  {
   "cell_type": "code",
   "execution_count": null,
   "id": "fda66afd",
   "metadata": {
    "id": "fda66afd",
    "outputId": "b16cb6f2-acac-440d-a34c-999b1d1b8bc9"
   },
   "outputs": [
    {
     "name": "stdout",
     "output_type": "stream",
     "text": [
      "    ID Salesman   Sales       P Type    Channel   Address\n",
      "0  101      Ram   12000      Grocery          0      Pune\n",
      "1  253     Sham   10000         Food          1    Nagpur\n",
      "2  555     Tony   30000     Clothing          1   Chennai\n",
      "3  789     Jack   44000    Medicines          1  Banglore\n",
      "4  544     Luke       0        Waste          0     Delhi\n",
      "5  123    Gopal  123456  Electronics  not known    Mumbai\n",
      "6  365    Karan    9999   Breverages  not known     Jammu\n",
      "7  963     Tina    5000   Stationary          1    Bhopal\n"
     ]
    }
   ],
   "source": [
    "print(df)"
   ]
  },
  {
   "cell_type": "markdown",
   "id": "e85851ea",
   "metadata": {
    "id": "e85851ea"
   },
   "source": [
    "5. Perform data transformation tasks, such as merging multiple datasets, splitting columns, or deriving new variables."
   ]
  },
  {
   "cell_type": "code",
   "execution_count": null,
   "id": "25f8862f",
   "metadata": {
    "id": "25f8862f",
    "outputId": "b3f30c11-3a71-4ff6-edeb-d7f81baad4c0"
   },
   "outputs": [
    {
     "name": "stdout",
     "output_type": "stream",
     "text": [
      "Transformed DataFrame for file1:\n",
      "   id  name  salary  start_date        dept  Year Month Day\n",
      "0   1  John    5000  2022-01-01          IT  2022    01  01\n",
      "1   2  Jane    6000  2022-02-01     Finance  2022    02  01\n",
      "2   3  Mark    5500  2022-03-01  Operations  2022    03  01\n",
      "\n",
      "Transformed DataFrame for file2:\n",
      "   id     name  salary  start_date     dept  Year Month Day\n",
      "0   4    Sarah    4500  2022-04-01       HR  2022    04  01\n",
      "1   5  Michael    7000  2022-05-01       IT  2022    05  01\n",
      "2   6    Emily    5200  2022-06-01  Finance  2022    06  01\n"
     ]
    }
   ],
   "source": [
    "import pandas as pd\n",
    "\n",
    "\n",
    "df_file1 = pd.read_csv('DMV ASMT 1_1.csv')\n",
    "df_file2 = pd.read_csv('DMV ASMT 1_2.csv')\n",
    "\n",
    "# Split start_date column into 'Year', 'Month', and 'Day' columns for file1_7\n",
    "df_file1[['Year', 'Month', 'Day']] = df_file1['start_date'].str.split('-', expand=True)\n",
    "\n",
    "# Split start_date column into 'Year', 'Month', and 'Day' columns for file2_7\n",
    "df_file2[['Year', 'Month', 'Day']] = df_file2['start_date'].str.split('-', expand=True)\n",
    "\n",
    "print(\"Transformed DataFrame for file1:\")\n",
    "print(df_file1)\n",
    "\n",
    "print(\"\\nTransformed DataFrame for file2:\")\n",
    "print(df_file2)\n"
   ]
  },
  {
   "cell_type": "code",
   "execution_count": null,
   "id": "3be10962",
   "metadata": {
    "id": "3be10962",
    "outputId": "821a816c-e83b-480f-ebd0-842f128df671"
   },
   "outputs": [
    {
     "name": "stdout",
     "output_type": "stream",
     "text": [
      "Merged DataFrame:\n",
      "   id     name  salary  start_date        dept\n",
      "0   1     John    5000  2022-01-01          IT\n",
      "1   2     Jane    6000  2022-02-01     Finance\n",
      "2   3     Mark    5500  2022-03-01  Operations\n",
      "3   4    Sarah    4500  2022-04-01          HR\n",
      "4   5  Michael    7000  2022-05-01          IT\n",
      "5   6    Emily    5200  2022-06-01     Finance\n"
     ]
    }
   ],
   "source": [
    "import pandas as pd\n",
    "\n",
    "# Read data from CSV files\n",
    "df_file1 = pd.read_csv('DMV ASMT 1_1.csv')\n",
    "df_file2 = pd.read_csv('DMV ASMT 1_2.csv')\n",
    "\n",
    "# Merge datasets based on 'id' column\n",
    "merged_df = pd.concat([df_file1, df_file2], ignore_index=True)\n",
    "\n",
    "# Display the merged DataFrame\n",
    "print(\"Merged DataFrame:\")\n",
    "print(merged_df)\n"
   ]
  },
  {
   "cell_type": "markdown",
   "id": "82f7fcd5",
   "metadata": {
    "id": "82f7fcd5"
   },
   "source": [
    "6. Analyze the sales data by performing descriptive statistics, aggregating data by specific variables, or calculating metrics such as total sales, average order value, or product category distribution."
   ]
  },
  {
   "cell_type": "code",
   "execution_count": null,
   "id": "e14a3f1f",
   "metadata": {
    "id": "e14a3f1f"
   },
   "outputs": [],
   "source": [
    "import pandas as pd\n",
    "\n",
    "# Read data from CSV file\n",
    "sales_data = pd.read_csv('DMV ASMT 1.csv')"
   ]
  },
  {
   "cell_type": "code",
   "execution_count": null,
   "id": "1c253792",
   "metadata": {
    "id": "1c253792",
    "outputId": "76751734-3bf1-411e-d7b7-40bad2b7bf11"
   },
   "outputs": [
    {
     "name": "stdout",
     "output_type": "stream",
     "text": [
      "Descriptive Statistics:\n",
      "               ID          Sales\n",
      "count    8.000000       7.000000\n",
      "mean   461.625000   33493.571429\n",
      "std    309.754252   42019.100117\n",
      "min    101.000000    5000.000000\n",
      "25%    220.500000    9999.500000\n",
      "50%    454.500000   12000.000000\n",
      "75%    613.500000   37000.000000\n",
      "max    963.000000  123456.000000\n"
     ]
    }
   ],
   "source": [
    "# Display basic descriptive statistics\n",
    "print(\"Descriptive Statistics:\")\n",
    "print(sales_data.describe())"
   ]
  },
  {
   "cell_type": "code",
   "execution_count": null,
   "id": "19d7296a",
   "metadata": {
    "id": "19d7296a",
    "outputId": "caf5cd73-0921-44e6-cc26-0feea9ad7b21"
   },
   "outputs": [
    {
     "name": "stdout",
     "output_type": "stream",
     "text": [
      "\n",
      "Total Sales: 234455.0\n"
     ]
    }
   ],
   "source": [
    "# Calculate total sales\n",
    "total_sales = sales_data['Sales'].sum()\n",
    "print(\"\\nTotal Sales:\", total_sales)\n"
   ]
  },
  {
   "cell_type": "code",
   "execution_count": null,
   "id": "a84b3cbe",
   "metadata": {
    "id": "a84b3cbe",
    "outputId": "fd9de6e1-25e2-4837-b571-090a3d49e4d0"
   },
   "outputs": [
    {
     "name": "stdout",
     "output_type": "stream",
     "text": [
      "Average Order Value: 33493.57142857143\n"
     ]
    }
   ],
   "source": [
    "# Calculate average order value\n",
    "average_order_value = sales_data['Sales'].mean()\n",
    "print(\"Average Order Value:\", average_order_value)"
   ]
  },
  {
   "cell_type": "code",
   "execution_count": null,
   "id": "f7226783",
   "metadata": {
    "id": "f7226783",
    "outputId": "1028cf4d-c587-4ad0-91d0-ee344191f70c"
   },
   "outputs": [
    {
     "name": "stdout",
     "output_type": "stream",
     "text": [
      "\n",
      "Product Category Distribution:\n",
      "Grocery        0.125\n",
      "Food           0.125\n",
      "Clothing       0.125\n",
      "Medicines      0.125\n",
      "Waste          0.125\n",
      "Electronics    0.125\n",
      "Breverages     0.125\n",
      "Stationary     0.125\n",
      "Name: P Type, dtype: float64\n"
     ]
    }
   ],
   "source": [
    "# Calculate product category distribution\n",
    "product_category_distribution = sales_data['P Type'].value_counts(normalize=True)\n",
    "print(\"\\nProduct Category Distribution:\")\n",
    "print(product_category_distribution)"
   ]
  },
  {
   "cell_type": "markdown",
   "id": "f869b045",
   "metadata": {
    "id": "f869b045"
   },
   "source": [
    "7. Create visualizations, such as bar plots, pie charts, or box plots, to represent the sales data and gain insights into sales trends, customer behavior, or product performance."
   ]
  },
  {
   "cell_type": "code",
   "execution_count": null,
   "id": "8d226ed2",
   "metadata": {
    "id": "8d226ed2"
   },
   "outputs": [],
   "source": [
    "import pandas as pd\n",
    "import matplotlib.pyplot as plt\n",
    "\n",
    "# Read data from CSV file\n",
    "sales_data = pd.read_csv('DMV ASMT 1.csv')"
   ]
  },
  {
   "cell_type": "code",
   "execution_count": null,
   "id": "ecf0aaa2",
   "metadata": {
    "id": "ecf0aaa2",
    "outputId": "d62bb957-d48a-436c-e678-bc22235b8f64"
   },
   "outputs": [
    {
     "data": {
      "image/png": "[encoded data removed]",
      "text/plain": [
       "<Figure size 720x432 with 1 Axes>"
      ]
     },
     "metadata": {
      "needs_background": "light"
     },
     "output_type": "display_data"
    }
   ],
   "source": [
    "# Bar plot: Total Sales by Product Type\n",
    "plt.figure(figsize=(10, 6))\n",
    "product_type_sales = sales_data.groupby('P Type')['Sales'].sum()\n",
    "product_type_sales.plot(kind='bar', color='skyblue')\n",
    "plt.title('Total Sales by Product Type')\n",
    "plt.xlabel('Product Type')\n",
    "plt.ylabel('Total Sales')\n",
    "plt.xticks(rotation=45)\n",
    "plt.tight_layout()\n",
    "plt.show()"
   ]
  },
  {
   "cell_type": "code",
   "execution_count": null,
   "id": "d88221e6",
   "metadata": {
    "id": "d88221e6",
    "outputId": "5c20522e-334b-402e-a943-e4fdee03d3b1"
   },
   "outputs": [
    {
     "data": {
      "image/png": "[encoded data removed]",
      "text/plain": [
       "<Figure size 576x576 with 1 Axes>"
      ]
     },
     "metadata": {},
     "output_type": "display_data"
    }
   ],
   "source": [
    "# Pie chart: Product Category Distribution\n",
    "plt.figure(figsize=(8, 8))\n",
    "product_category_distribution = sales_data['P Type'].value_counts()\n",
    "plt.pie(product_category_distribution, labels=product_category_distribution.index, autopct='%1.1f%%', startangle=140)\n",
    "plt.title('Product Category Distribution')\n",
    "plt.axis('equal')\n",
    "plt.tight_layout()\n",
    "plt.show()"
   ]
  },
  {
   "cell_type": "code",
   "execution_count": null,
   "id": "97ffdf46",
   "metadata": {
    "id": "97ffdf46"
   },
   "outputs": [],
   "source": []
  }
 ],
 "metadata": {
  "colab": {
   "provenance": []
  },
  "kernelspec": {
   "display_name": "Python 3 (ipykernel)",
   "language": "python",
   "name": "python3"
  },
  "language_info": {
   "codemirror_mode": {
    "name": "ipython",
    "version": 3
   },
   "file_extension": ".py",
   "mimetype": "text/x-python",
   "name": "python",
   "nbconvert_exporter": "python",
   "pygments_lexer": "ipython3",
   "version": "3.10.6"
  }
 },
 "nbformat": 4,
 "nbformat_minor": 5
}
